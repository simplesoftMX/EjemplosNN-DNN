{
  "nbformat": 4,
  "nbformat_minor": 0,
  "metadata": {
    "colab": {
      "name": "DNNClassifier.ipynb",
      "version": "0.3.2",
      "provenance": [],
      "collapsed_sections": [],
      "include_colab_link": true
    },
    "kernelspec": {
      "name": "python3",
      "display_name": "Python 3"
    }
  },
  "cells": [
    {
      "cell_type": "markdown",
      "metadata": {
        "id": "view-in-github",
        "colab_type": "text"
      },
      "source": [
        "<a href=\"https://colab.research.google.com/github/simpleverso/EjemplosNN-DNN/blob/master/DNNClassifier.ipynb\" target=\"_parent\"><img src=\"https://colab.research.google.com/assets/colab-badge.svg\" alt=\"Open In Colab\"/></a>"
      ]
    },
    {
      "cell_type": "code",
      "metadata": {
        "id": "PDjijUfxxe2q",
        "colab_type": "code",
        "outputId": "9f01abd6-a48d-4f64-b48b-c44ed4a36318",
        "colab": {
          "base_uri": "https://localhost:8080/",
          "height": 428
        }
      },
      "source": [
        "from sklearn import metrics, model_selection\n",
        "from sklearn.metrics import accuracy_score \n",
        "import tensorflow as tf\n",
        "import tensorflow.contrib.learn as learn\n",
        "\n",
        "iris = learn.datasets.load_dataset('iris')\n",
        "x_train,x_test,y_train,y_test = model_selection.train_test_split(\n",
        "iris.data,iris.target,test_size=0.2,random_state=42)\n",
        "\n",
        "feature_columns = [tf.contrib.layers.real_valued_column(\"\", dimension=1)]\n",
        "classifier = learn.DNNClassifier(feature_columns=feature_columns, hidden_units=[10, 20, 10], n_classes=3)\n",
        "\n",
        "classifier.fit(x_train,y_train,steps=200)\n",
        "\n",
        "#print(accuracy_score(y_test, classifier.predict(x_test)))\n",
        "\n",
        "print(classifier.predict(x_test));\n"
      ],
      "execution_count": 6,
      "outputs": [
        {
          "output_type": "stream",
          "text": [
            "INFO:tensorflow:Using default config.\n",
            "WARNING:tensorflow:Using temporary folder as model directory: /tmp/tmpxgqbckfu\n",
            "INFO:tensorflow:Using config: {'_task_type': None, '_task_id': 0, '_cluster_spec': <tensorflow.python.training.server_lib.ClusterSpec object at 0x7fee03cbcc18>, '_master': '', '_num_ps_replicas': 0, '_num_worker_replicas': 0, '_environment': 'local', '_is_chief': True, '_evaluation_master': '', '_train_distribute': None, '_eval_distribute': None, '_device_fn': None, '_tf_config': gpu_options {\n",
            "  per_process_gpu_memory_fraction: 1.0\n",
            "}\n",
            ", '_tf_random_seed': None, '_save_summary_steps': 100, '_save_checkpoints_secs': 600, '_log_step_count_steps': 100, '_protocol': None, '_session_config': None, '_save_checkpoints_steps': None, '_keep_checkpoint_max': 5, '_keep_checkpoint_every_n_hours': 10000, '_model_dir': '/tmp/tmpxgqbckfu'}\n",
            "WARNING:tensorflow:float64 is not supported by many models, consider casting to float32.\n",
            "INFO:tensorflow:Create CheckpointSaverHook.\n",
            "INFO:tensorflow:Graph was finalized.\n",
            "INFO:tensorflow:Running local_init_op.\n",
            "INFO:tensorflow:Done running local_init_op.\n",
            "INFO:tensorflow:Saving checkpoints for 0 into /tmp/tmpxgqbckfu/model.ckpt.\n",
            "INFO:tensorflow:loss = 0.9955655, step = 1\n",
            "INFO:tensorflow:global_step/sec: 606.572\n",
            "INFO:tensorflow:loss = 0.098689824, step = 101 (0.166 sec)\n",
            "INFO:tensorflow:Saving checkpoints for 200 into /tmp/tmpxgqbckfu/model.ckpt.\n",
            "INFO:tensorflow:Loss for final step: 0.071126826.\n",
            "WARNING:tensorflow:float64 is not supported by many models, consider casting to float32.\n",
            "INFO:tensorflow:Graph was finalized.\n",
            "INFO:tensorflow:Restoring parameters from /tmp/tmpxgqbckfu/model.ckpt-200\n",
            "INFO:tensorflow:Running local_init_op.\n",
            "INFO:tensorflow:Done running local_init_op.\n",
            "<generator object DNNClassifier.predict_classes.<locals>.<genexpr> at 0x7fee039d8d58>\n"
          ],
          "name": "stdout"
        }
      ]
    }
  ]
}