{
  "nbformat": 4,
  "nbformat_minor": 0,
  "metadata": {
    "colab": {
      "name": "Untitled1.ipynb",
      "version": "0.3.2",
      "provenance": [],
      "include_colab_link": true
    },
    "kernelspec": {
      "name": "python3",
      "display_name": "Python 3"
    }
  },
  "cells": [
    {
      "cell_type": "markdown",
      "metadata": {
        "id": "view-in-github",
        "colab_type": "text"
      },
      "source": [
        "<a href=\"https://colab.research.google.com/github/simpleverso/EjemplosNN-DNN/blob/master/knn_implementadoDesdeCero.ipynb\" target=\"_parent\"><img src=\"https://colab.research.google.com/assets/colab-badge.svg\" alt=\"Open In Colab\"/></a>"
      ]
    },
    {
      "cell_type": "markdown",
      "metadata": {
        "id": "XuRGB3UadliX",
        "colab_type": "text"
      },
      "source": [
        "KNN desde CERO"
      ]
    },
    {
      "cell_type": "code",
      "metadata": {
        "id": "cQ8RE6h7dkjC",
        "colab_type": "code",
        "colab": {
          "base_uri": "https://localhost:8080/",
          "height": 34
        },
        "outputId": "27239577-f768-42e0-f32e-4bd276575aed"
      },
      "source": [
        "from scipy.spatial import distance\n",
        "def euc(a,b):\n",
        "  return distance.euclidean(a,b)\n",
        "  \n",
        "class MiKNN():\n",
        "  def fit(self,X_train,y_train):\n",
        "    self.X_train = X_train\n",
        "    self.y_train = y_train\n",
        "  \n",
        "  def predict(self,X_test):\n",
        "    predictions = []\n",
        "    for row in X_test:\n",
        "        label = self.closest(row)\n",
        "        predictions.append(label)\n",
        "    return predictions\n",
        "  \n",
        "  def closest(self,row):\n",
        "    best_dist = euc(row,self.X_train[0])\n",
        "    best_index = 0\n",
        "    for i in range(1,len(self.X_train)):\n",
        "      dist = euc(row,self.X_train[i])\n",
        "      if dist < best_dist:\n",
        "        best_dist = dist\n",
        "        best_index = i\n",
        "    return self.y_train[best_index]\n",
        "\n",
        "from sklearn import datasets\n",
        "iris = datasets.load_iris()\n",
        "\n",
        "X = iris.data\n",
        "y = iris.target\n",
        "\n",
        "from sklearn.model_selection import train_test_split\n",
        "X_train, X_test, y_train, y_test = train_test_split(X,y,test_size=.5)\n",
        "\n",
        "\n",
        "#from sklearn.neighbors import KNeighborsClassifier\n",
        "#my_classifier = KNeighborsClassifier()\n",
        "\n",
        "my_classifier = MiKNN()\n",
        "\n",
        "my_classifier.fit(X_train,y_train)\n",
        "predictions = my_classifier.predict(X_test)\n",
        "\n",
        "from sklearn.metrics import accuracy_score\n",
        "print(accuracy_score(y_test,predictions))\n"
      ],
      "execution_count": 6,
      "outputs": [
        {
          "output_type": "stream",
          "text": [
            "0.9733333333333334\n"
          ],
          "name": "stdout"
        }
      ]
    }
  ]
}