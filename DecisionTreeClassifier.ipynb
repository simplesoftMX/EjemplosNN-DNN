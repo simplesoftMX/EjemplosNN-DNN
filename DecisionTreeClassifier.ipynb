{
  "nbformat": 4,
  "nbformat_minor": 0,
  "metadata": {
    "colab": {
      "name": "DecisionTreeClassifier.ipynb",
      "version": "0.3.2",
      "provenance": [],
      "collapsed_sections": []
    },
    "kernelspec": {
      "name": "python3",
      "display_name": "Python 3"
    }
  },
  "cells": [
    {
      "cell_type": "markdown",
      "metadata": {
        "id": "CXv8RH7uX3QN",
        "colab_type": "text"
      },
      "source": [
        "## **Ejemplo de clasificación con DecisionTreeClassifier**"
      ]
    },
    {
      "cell_type": "markdown",
      "metadata": {
        "id": "zrKtLcNiX602",
        "colab_type": "text"
      },
      "source": [
        "Esta porcion de código inicializa la librería sklearn de python"
      ]
    },
    {
      "cell_type": "code",
      "metadata": {
        "id": "JV_CDlY4X8e1",
        "colab_type": "code",
        "colab": {}
      },
      "source": [
        "from sklearn import tree"
      ],
      "execution_count": 0,
      "outputs": []
    },
    {
      "cell_type": "markdown",
      "metadata": {
        "id": "Ht8Vw3FsYeIP",
        "colab_type": "text"
      },
      "source": [
        "se agregan los valores a entrenar, en este caso es la función OR"
      ]
    },
    {
      "cell_type": "code",
      "metadata": {
        "id": "7d-eaowHYZ6U",
        "colab_type": "code",
        "colab": {}
      },
      "source": [
        "features = [[0,0], [0,1],[1,0],[1,1]]\n",
        "labels = [0,1,1,0]"
      ],
      "execution_count": 0,
      "outputs": []
    },
    {
      "cell_type": "markdown",
      "metadata": {
        "id": "XSQu4aX-YnaF",
        "colab_type": "text"
      },
      "source": [
        "ahora seleccionamos el proceso de entrenamiento, para este ejemplo: DesicionTreeClassifier\n",
        "posteriormente entrenamos con la funcion fit"
      ]
    },
    {
      "cell_type": "code",
      "metadata": {
        "id": "SDHpNjbpYv05",
        "colab_type": "code",
        "colab": {}
      },
      "source": [
        "clf = tree.DecisionTreeClassifier()\n",
        "clf = clf.fit(features,labels)"
      ],
      "execution_count": 0,
      "outputs": []
    },
    {
      "cell_type": "markdown",
      "metadata": {
        "id": "nB27hB8MY-P4",
        "colab_type": "text"
      },
      "source": [
        "ahora ejecutamos con un valor a clasificar"
      ]
    },
    {
      "cell_type": "code",
      "metadata": {
        "id": "bnf3ZZRsZGUy",
        "colab_type": "code",
        "colab": {
          "base_uri": "https://localhost:8080/",
          "height": 34
        },
        "outputId": "607e133d-82fd-4d66-c522-bb96e60eab6f"
      },
      "source": [
        "#se pueden clasificar los valores: 00,01,10,11\n",
        "print(clf.predict([[1,1]]))"
      ],
      "execution_count": 14,
      "outputs": [
        {
          "output_type": "stream",
          "text": [
            "[0]\n"
          ],
          "name": "stdout"
        }
      ]
    }
  ]
}