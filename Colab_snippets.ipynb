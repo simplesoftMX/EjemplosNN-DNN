{
  "nbformat": 4,
  "nbformat_minor": 0,
  "metadata": {
    "colab": {
      "name": "Colab_snippets.ipynb",
      "version": "0.3.2",
      "provenance": [],
      "collapsed_sections": []
    },
    "kernelspec": {
      "name": "python3",
      "display_name": "Python 3"
    }
  },
  "cells": [
    {
      "cell_type": "markdown",
      "metadata": {
        "id": "QvyoJAiWpGwv",
        "colab_type": "text"
      },
      "source": [
        "usar colab con GPU"
      ]
    },
    {
      "cell_type": "code",
      "metadata": {
        "id": "LYEQAReFgToz",
        "colab_type": "code",
        "colab": {}
      },
      "source": [
        "import tensorflow as tf\n",
        "device_name = tf.test.gpu_device_name()\n",
        "if device_name != '/device:GPU:0':\n",
        "  raise SystemError('GPU device not found')\n",
        "print('Found GPU at: {}'.format(device_name))\n"
      ],
      "execution_count": 0,
      "outputs": []
    },
    {
      "cell_type": "markdown",
      "metadata": {
        "id": "LvucD0GEpKho",
        "colab_type": "text"
      },
      "source": [
        "instalar librerías"
      ]
    },
    {
      "cell_type": "code",
      "metadata": {
        "id": "ZDGAbnIJpPHS",
        "colab_type": "code",
        "colab": {}
      },
      "source": [
        "# Install Keras with pip\n",
        "!pip install -q keras\n",
        "import keras\n",
        "# Install GraphViz with apt\n",
        "!apt-get install graphviz -y"
      ],
      "execution_count": 0,
      "outputs": []
    },
    {
      "cell_type": "markdown",
      "metadata": {
        "id": "OhIV9Q7DpSmd",
        "colab_type": "text"
      },
      "source": [
        "subir archivos propios de datos"
      ]
    },
    {
      "cell_type": "code",
      "metadata": {
        "id": "XQe-90BOpaw5",
        "colab_type": "code",
        "colab": {}
      },
      "source": [
        "from google.colab import files\n",
        "uploaded = files.upload()\n",
        "for fn in uploaded.keys():\n",
        "  print('User uploaded file \"{name}\" with length {length} bytes'.format(name=fn, length=len(uploaded[fn])))\n",
        "import pandas as pd\n",
        "import io\n",
        "df = pd.read_csv(io.StringIO(uploaded['iris.csv'].decode('utf-8')))\n",
        "print(df)"
      ],
      "execution_count": 0,
      "outputs": []
    }
  ]
}