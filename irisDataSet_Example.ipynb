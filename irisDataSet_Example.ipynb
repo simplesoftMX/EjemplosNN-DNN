{
  "nbformat": 4,
  "nbformat_minor": 0,
  "metadata": {
    "colab": {
      "name": "irisDataSet_Example.ipynb",
      "version": "0.3.2",
      "provenance": [],
      "collapsed_sections": []
    },
    "kernelspec": {
      "name": "python3",
      "display_name": "Python 3"
    }
  },
  "cells": [
    {
      "cell_type": "code",
      "metadata": {
        "id": "LYEQAReFgToz",
        "colab_type": "code",
        "colab": {
          "base_uri": "https://localhost:8080/",
          "height": 241
        },
        "outputId": "d438236b-ab4f-47a9-8e87-42193cb90a83"
      },
      "source": [
        "!pip install -q pydot\n",
        "!pip install -q pydot-ng\n",
        "!pip install -q graphviz\n",
        "\n",
        "from sklearn.datasets import load_iris\n",
        "from keras.utils import plot_model\n",
        "from sklearn.externals.six import StringIO\n",
        "import numpy as np\n",
        "from sklearn import tree\n",
        "import pydot\n",
        "\n",
        "\n",
        "iris = load_iris()\n",
        "test_idx = [0,50,100]\n",
        "\n",
        "print(iris.feature_names)\n",
        "print(iris.target_names)\n",
        "print(iris.data[0])\n",
        "print(iris.target[0])"
      ],
      "execution_count": 12,
      "outputs": [
        {
          "output_type": "stream",
          "text": [
            "Reading package lists... Done\n",
            "Building dependency tree       \n",
            "Reading state information... Done\n",
            "graphviz is already the newest version (2.40.1-2).\n",
            "The following package was automatically installed and is no longer required:\n",
            "  libnvidia-common-410\n",
            "Use 'apt autoremove' to remove it.\n",
            "0 upgraded, 0 newly installed, 0 to remove and 16 not upgraded.\n",
            "['sepal length (cm)', 'sepal width (cm)', 'petal length (cm)', 'petal width (cm)']\n",
            "['setosa' 'versicolor' 'virginica']\n",
            "[5.1 3.5 1.4 0.2]\n",
            "0\n"
          ],
          "name": "stdout"
        }
      ]
    },
    {
      "cell_type": "code",
      "metadata": {
        "id": "lrMUfvZThNEZ",
        "colab_type": "code",
        "colab": {
          "base_uri": "https://localhost:8080/",
          "height": 2567
        },
        "outputId": "14f5f68a-b32e-4b20-9f7c-6c1572b2edfc"
      },
      "source": [
        "for i in range(len(iris.target)):\n",
        "    print(\"example %d: label: %s, features %s\" % (i,iris.target[i],iris.data[i]))"
      ],
      "execution_count": 2,
      "outputs": [
        {
          "output_type": "stream",
          "text": [
            "example 0: label: 0, features [5.1 3.5 1.4 0.2]\n",
            "example 1: label: 0, features [4.9 3.  1.4 0.2]\n",
            "example 2: label: 0, features [4.7 3.2 1.3 0.2]\n",
            "example 3: label: 0, features [4.6 3.1 1.5 0.2]\n",
            "example 4: label: 0, features [5.  3.6 1.4 0.2]\n",
            "example 5: label: 0, features [5.4 3.9 1.7 0.4]\n",
            "example 6: label: 0, features [4.6 3.4 1.4 0.3]\n",
            "example 7: label: 0, features [5.  3.4 1.5 0.2]\n",
            "example 8: label: 0, features [4.4 2.9 1.4 0.2]\n",
            "example 9: label: 0, features [4.9 3.1 1.5 0.1]\n",
            "example 10: label: 0, features [5.4 3.7 1.5 0.2]\n",
            "example 11: label: 0, features [4.8 3.4 1.6 0.2]\n",
            "example 12: label: 0, features [4.8 3.  1.4 0.1]\n",
            "example 13: label: 0, features [4.3 3.  1.1 0.1]\n",
            "example 14: label: 0, features [5.8 4.  1.2 0.2]\n",
            "example 15: label: 0, features [5.7 4.4 1.5 0.4]\n",
            "example 16: label: 0, features [5.4 3.9 1.3 0.4]\n",
            "example 17: label: 0, features [5.1 3.5 1.4 0.3]\n",
            "example 18: label: 0, features [5.7 3.8 1.7 0.3]\n",
            "example 19: label: 0, features [5.1 3.8 1.5 0.3]\n",
            "example 20: label: 0, features [5.4 3.4 1.7 0.2]\n",
            "example 21: label: 0, features [5.1 3.7 1.5 0.4]\n",
            "example 22: label: 0, features [4.6 3.6 1.  0.2]\n",
            "example 23: label: 0, features [5.1 3.3 1.7 0.5]\n",
            "example 24: label: 0, features [4.8 3.4 1.9 0.2]\n",
            "example 25: label: 0, features [5.  3.  1.6 0.2]\n",
            "example 26: label: 0, features [5.  3.4 1.6 0.4]\n",
            "example 27: label: 0, features [5.2 3.5 1.5 0.2]\n",
            "example 28: label: 0, features [5.2 3.4 1.4 0.2]\n",
            "example 29: label: 0, features [4.7 3.2 1.6 0.2]\n",
            "example 30: label: 0, features [4.8 3.1 1.6 0.2]\n",
            "example 31: label: 0, features [5.4 3.4 1.5 0.4]\n",
            "example 32: label: 0, features [5.2 4.1 1.5 0.1]\n",
            "example 33: label: 0, features [5.5 4.2 1.4 0.2]\n",
            "example 34: label: 0, features [4.9 3.1 1.5 0.2]\n",
            "example 35: label: 0, features [5.  3.2 1.2 0.2]\n",
            "example 36: label: 0, features [5.5 3.5 1.3 0.2]\n",
            "example 37: label: 0, features [4.9 3.6 1.4 0.1]\n",
            "example 38: label: 0, features [4.4 3.  1.3 0.2]\n",
            "example 39: label: 0, features [5.1 3.4 1.5 0.2]\n",
            "example 40: label: 0, features [5.  3.5 1.3 0.3]\n",
            "example 41: label: 0, features [4.5 2.3 1.3 0.3]\n",
            "example 42: label: 0, features [4.4 3.2 1.3 0.2]\n",
            "example 43: label: 0, features [5.  3.5 1.6 0.6]\n",
            "example 44: label: 0, features [5.1 3.8 1.9 0.4]\n",
            "example 45: label: 0, features [4.8 3.  1.4 0.3]\n",
            "example 46: label: 0, features [5.1 3.8 1.6 0.2]\n",
            "example 47: label: 0, features [4.6 3.2 1.4 0.2]\n",
            "example 48: label: 0, features [5.3 3.7 1.5 0.2]\n",
            "example 49: label: 0, features [5.  3.3 1.4 0.2]\n",
            "example 50: label: 1, features [7.  3.2 4.7 1.4]\n",
            "example 51: label: 1, features [6.4 3.2 4.5 1.5]\n",
            "example 52: label: 1, features [6.9 3.1 4.9 1.5]\n",
            "example 53: label: 1, features [5.5 2.3 4.  1.3]\n",
            "example 54: label: 1, features [6.5 2.8 4.6 1.5]\n",
            "example 55: label: 1, features [5.7 2.8 4.5 1.3]\n",
            "example 56: label: 1, features [6.3 3.3 4.7 1.6]\n",
            "example 57: label: 1, features [4.9 2.4 3.3 1. ]\n",
            "example 58: label: 1, features [6.6 2.9 4.6 1.3]\n",
            "example 59: label: 1, features [5.2 2.7 3.9 1.4]\n",
            "example 60: label: 1, features [5.  2.  3.5 1. ]\n",
            "example 61: label: 1, features [5.9 3.  4.2 1.5]\n",
            "example 62: label: 1, features [6.  2.2 4.  1. ]\n",
            "example 63: label: 1, features [6.1 2.9 4.7 1.4]\n",
            "example 64: label: 1, features [5.6 2.9 3.6 1.3]\n",
            "example 65: label: 1, features [6.7 3.1 4.4 1.4]\n",
            "example 66: label: 1, features [5.6 3.  4.5 1.5]\n",
            "example 67: label: 1, features [5.8 2.7 4.1 1. ]\n",
            "example 68: label: 1, features [6.2 2.2 4.5 1.5]\n",
            "example 69: label: 1, features [5.6 2.5 3.9 1.1]\n",
            "example 70: label: 1, features [5.9 3.2 4.8 1.8]\n",
            "example 71: label: 1, features [6.1 2.8 4.  1.3]\n",
            "example 72: label: 1, features [6.3 2.5 4.9 1.5]\n",
            "example 73: label: 1, features [6.1 2.8 4.7 1.2]\n",
            "example 74: label: 1, features [6.4 2.9 4.3 1.3]\n",
            "example 75: label: 1, features [6.6 3.  4.4 1.4]\n",
            "example 76: label: 1, features [6.8 2.8 4.8 1.4]\n",
            "example 77: label: 1, features [6.7 3.  5.  1.7]\n",
            "example 78: label: 1, features [6.  2.9 4.5 1.5]\n",
            "example 79: label: 1, features [5.7 2.6 3.5 1. ]\n",
            "example 80: label: 1, features [5.5 2.4 3.8 1.1]\n",
            "example 81: label: 1, features [5.5 2.4 3.7 1. ]\n",
            "example 82: label: 1, features [5.8 2.7 3.9 1.2]\n",
            "example 83: label: 1, features [6.  2.7 5.1 1.6]\n",
            "example 84: label: 1, features [5.4 3.  4.5 1.5]\n",
            "example 85: label: 1, features [6.  3.4 4.5 1.6]\n",
            "example 86: label: 1, features [6.7 3.1 4.7 1.5]\n",
            "example 87: label: 1, features [6.3 2.3 4.4 1.3]\n",
            "example 88: label: 1, features [5.6 3.  4.1 1.3]\n",
            "example 89: label: 1, features [5.5 2.5 4.  1.3]\n",
            "example 90: label: 1, features [5.5 2.6 4.4 1.2]\n",
            "example 91: label: 1, features [6.1 3.  4.6 1.4]\n",
            "example 92: label: 1, features [5.8 2.6 4.  1.2]\n",
            "example 93: label: 1, features [5.  2.3 3.3 1. ]\n",
            "example 94: label: 1, features [5.6 2.7 4.2 1.3]\n",
            "example 95: label: 1, features [5.7 3.  4.2 1.2]\n",
            "example 96: label: 1, features [5.7 2.9 4.2 1.3]\n",
            "example 97: label: 1, features [6.2 2.9 4.3 1.3]\n",
            "example 98: label: 1, features [5.1 2.5 3.  1.1]\n",
            "example 99: label: 1, features [5.7 2.8 4.1 1.3]\n",
            "example 100: label: 2, features [6.3 3.3 6.  2.5]\n",
            "example 101: label: 2, features [5.8 2.7 5.1 1.9]\n",
            "example 102: label: 2, features [7.1 3.  5.9 2.1]\n",
            "example 103: label: 2, features [6.3 2.9 5.6 1.8]\n",
            "example 104: label: 2, features [6.5 3.  5.8 2.2]\n",
            "example 105: label: 2, features [7.6 3.  6.6 2.1]\n",
            "example 106: label: 2, features [4.9 2.5 4.5 1.7]\n",
            "example 107: label: 2, features [7.3 2.9 6.3 1.8]\n",
            "example 108: label: 2, features [6.7 2.5 5.8 1.8]\n",
            "example 109: label: 2, features [7.2 3.6 6.1 2.5]\n",
            "example 110: label: 2, features [6.5 3.2 5.1 2. ]\n",
            "example 111: label: 2, features [6.4 2.7 5.3 1.9]\n",
            "example 112: label: 2, features [6.8 3.  5.5 2.1]\n",
            "example 113: label: 2, features [5.7 2.5 5.  2. ]\n",
            "example 114: label: 2, features [5.8 2.8 5.1 2.4]\n",
            "example 115: label: 2, features [6.4 3.2 5.3 2.3]\n",
            "example 116: label: 2, features [6.5 3.  5.5 1.8]\n",
            "example 117: label: 2, features [7.7 3.8 6.7 2.2]\n",
            "example 118: label: 2, features [7.7 2.6 6.9 2.3]\n",
            "example 119: label: 2, features [6.  2.2 5.  1.5]\n",
            "example 120: label: 2, features [6.9 3.2 5.7 2.3]\n",
            "example 121: label: 2, features [5.6 2.8 4.9 2. ]\n",
            "example 122: label: 2, features [7.7 2.8 6.7 2. ]\n",
            "example 123: label: 2, features [6.3 2.7 4.9 1.8]\n",
            "example 124: label: 2, features [6.7 3.3 5.7 2.1]\n",
            "example 125: label: 2, features [7.2 3.2 6.  1.8]\n",
            "example 126: label: 2, features [6.2 2.8 4.8 1.8]\n",
            "example 127: label: 2, features [6.1 3.  4.9 1.8]\n",
            "example 128: label: 2, features [6.4 2.8 5.6 2.1]\n",
            "example 129: label: 2, features [7.2 3.  5.8 1.6]\n",
            "example 130: label: 2, features [7.4 2.8 6.1 1.9]\n",
            "example 131: label: 2, features [7.9 3.8 6.4 2. ]\n",
            "example 132: label: 2, features [6.4 2.8 5.6 2.2]\n",
            "example 133: label: 2, features [6.3 2.8 5.1 1.5]\n",
            "example 134: label: 2, features [6.1 2.6 5.6 1.4]\n",
            "example 135: label: 2, features [7.7 3.  6.1 2.3]\n",
            "example 136: label: 2, features [6.3 3.4 5.6 2.4]\n",
            "example 137: label: 2, features [6.4 3.1 5.5 1.8]\n",
            "example 138: label: 2, features [6.  3.  4.8 1.8]\n",
            "example 139: label: 2, features [6.9 3.1 5.4 2.1]\n",
            "example 140: label: 2, features [6.7 3.1 5.6 2.4]\n",
            "example 141: label: 2, features [6.9 3.1 5.1 2.3]\n",
            "example 142: label: 2, features [5.8 2.7 5.1 1.9]\n",
            "example 143: label: 2, features [6.8 3.2 5.9 2.3]\n",
            "example 144: label: 2, features [6.7 3.3 5.7 2.5]\n",
            "example 145: label: 2, features [6.7 3.  5.2 2.3]\n",
            "example 146: label: 2, features [6.3 2.5 5.  1.9]\n",
            "example 147: label: 2, features [6.5 3.  5.2 2. ]\n",
            "example 148: label: 2, features [6.2 3.4 5.4 2.3]\n",
            "example 149: label: 2, features [5.9 3.  5.1 1.8]\n"
          ],
          "name": "stdout"
        }
      ]
    },
    {
      "cell_type": "code",
      "metadata": {
        "id": "dZQhl8cIh2tF",
        "colab_type": "code",
        "colab": {}
      },
      "source": [
        "train_target = np.delete(iris.target,test_idx)\n",
        "train_data = np.delete(iris.data,test_idx,axis=0)\n",
        "\n",
        "test_target = iris.target[test_idx]\n",
        "test_data = iris.data[test_idx]\n",
        "\n",
        "clf = tree.DecisionTreeClassifier()\n",
        "clf.fit(train_data,train_target);"
      ],
      "execution_count": 0,
      "outputs": []
    },
    {
      "cell_type": "code",
      "metadata": {
        "id": "tjUrfSKji3pG",
        "colab_type": "code",
        "colab": {
          "base_uri": "https://localhost:8080/",
          "height": 34
        },
        "outputId": "b4f4a508-8652-4978-c984-7aea95ca5933"
      },
      "source": [
        "print(test_target)"
      ],
      "execution_count": 5,
      "outputs": [
        {
          "output_type": "stream",
          "text": [
            "[0 1 2]\n"
          ],
          "name": "stdout"
        }
      ]
    },
    {
      "cell_type": "code",
      "metadata": {
        "id": "BEzOf2NLjZ_5",
        "colab_type": "code",
        "colab": {
          "base_uri": "https://localhost:8080/",
          "height": 34
        },
        "outputId": "01d8678d-5682-4dd8-ed3a-0f048b59d54f"
      },
      "source": [
        "clf.predict(test_data)"
      ],
      "execution_count": 6,
      "outputs": [
        {
          "output_type": "execute_result",
          "data": {
            "text/plain": [
              "array([0, 1, 2])"
            ]
          },
          "metadata": {
            "tags": []
          },
          "execution_count": 6
        }
      ]
    },
    {
      "cell_type": "code",
      "metadata": {
        "id": "HJgt9FI2j8nD",
        "colab_type": "code",
        "colab": {
          "base_uri": "https://localhost:8080/",
          "height": 218
        },
        "outputId": "a60a921f-0d72-470b-d357-748977cf9a0d"
      },
      "source": [
        "dot_data = StringIO()\n",
        "tree.export_graphviz(clf,\n",
        "                    out_file=dot_data,\n",
        "                    feature_names=iris.feature_names,\n",
        "                    class_names=iris.target_names,\n",
        "                    filled=True,rounded=True,\n",
        "                    impurity=False)\n",
        "graph = pydot.graph_from_dot_data(dot_data.getvalue())\n",
        "#print(graph)\n",
        "graph.write_pdf(\"iris.pdf\")\n"
      ],
      "execution_count": 11,
      "outputs": [
        {
          "output_type": "error",
          "ename": "AttributeError",
          "evalue": "ignored",
          "traceback": [
            "\u001b[0;31m---------------------------------------------------------------------------\u001b[0m",
            "\u001b[0;31mAttributeError\u001b[0m                            Traceback (most recent call last)",
            "\u001b[0;32m<ipython-input-11-7d6062f0c64e>\u001b[0m in \u001b[0;36m<module>\u001b[0;34m()\u001b[0m\n\u001b[1;32m      8\u001b[0m \u001b[0mgraph\u001b[0m \u001b[0;34m=\u001b[0m \u001b[0mpydot\u001b[0m\u001b[0;34m.\u001b[0m\u001b[0mgraph_from_dot_data\u001b[0m\u001b[0;34m(\u001b[0m\u001b[0mdot_data\u001b[0m\u001b[0;34m.\u001b[0m\u001b[0mgetvalue\u001b[0m\u001b[0;34m(\u001b[0m\u001b[0;34m)\u001b[0m\u001b[0;34m)\u001b[0m\u001b[0;34m\u001b[0m\u001b[0;34m\u001b[0m\u001b[0m\n\u001b[1;32m      9\u001b[0m \u001b[0;31m#print(graph)\u001b[0m\u001b[0;34m\u001b[0m\u001b[0;34m\u001b[0m\u001b[0;34m\u001b[0m\u001b[0m\n\u001b[0;32m---> 10\u001b[0;31m \u001b[0mgraph\u001b[0m\u001b[0;34m.\u001b[0m\u001b[0mwrite_pdf\u001b[0m\u001b[0;34m(\u001b[0m\u001b[0;34m\"iris.pdf\"\u001b[0m\u001b[0;34m)\u001b[0m\u001b[0;34m\u001b[0m\u001b[0;34m\u001b[0m\u001b[0m\n\u001b[0m",
            "\u001b[0;31mAttributeError\u001b[0m: 'list' object has no attribute 'write_pdf'"
          ]
        }
      ]
    }
  ]
}